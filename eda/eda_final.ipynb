{
 "cells": [
  {
   "cell_type": "markdown",
   "metadata": {
    "Collapsed": "false"
   },
   "source": [
    "### Kaggle competition Energy consumption prediction"
   ]
  },
  {
   "cell_type": "code",
   "execution_count": 1,
   "metadata": {
    "Collapsed": "false"
   },
   "outputs": [],
   "source": [
    "import numpy as np\n",
    "import pandas as pd\n",
    "import matplotlib.pyplot as plt\n",
    "import seaborn as sns\n",
    "from myfunc import get_stats\n",
    "import gc\n",
    "\n",
    "pd.set_option('display.max_columns', 300)"
   ]
  },
  {
   "cell_type": "markdown",
   "metadata": {
    "Collapsed": "false"
   },
   "source": [
    "#### Import necessary data"
   ]
  },
  {
   "cell_type": "code",
   "execution_count": 2,
   "metadata": {
    "Collapsed": "false"
   },
   "outputs": [],
   "source": [
    "root = '../data/'\n",
    "\n",
    "train = pd.read_csv(root + 'train.csv')\n",
    "weather_train = pd.read_csv(root + 'weather_train.csv')\n",
    "\n",
    "test = pd.read_csv(root + 'test.csv')\n",
    "weather_test = pd.read_csv(root + 'weather_test.csv')\n",
    "\n",
    "building = pd.read_csv(root + 'building_metadata.csv')\n"
   ]
  },
  {
   "cell_type": "code",
   "execution_count": 3,
   "metadata": {
    "Collapsed": "false"
   },
   "outputs": [
    {
     "name": "stdout",
     "output_type": "stream",
     "text": [
      "Size of train data (20216100, 4)\n",
      "Size of weather_train data (139773, 9)\n",
      "Size of weather_test data (277243, 9)\n",
      "Size of building data (1449, 6)\n"
     ]
    }
   ],
   "source": [
    "print('Size of train data', train.shape)\n",
    "print('Size of weather_train data', weather_train.shape)\n",
    "print('Size of weather_test data', weather_test.shape)\n",
    "print('Size of building data', building.shape)"
   ]
  },
  {
   "cell_type": "code",
   "execution_count": null,
   "metadata": {
    "Collapsed": "false"
   },
   "outputs": [],
   "source": []
  },
  {
   "cell_type": "code",
   "execution_count": 4,
   "metadata": {
    "Collapsed": "false"
   },
   "outputs": [],
   "source": [
    "# train.csv\n",
    "# building_id - Foreign key for the building metadata.\n",
    "# meter - The meter id code. Read as {0: electricity, 1: chilledwater, 2: steam, hotwater: 3}. Not every building has all meter types.\n",
    "# timestamp - When the measurement was taken\n",
    "# meter_reading - The target variable. Energy consumption in kWh (or equivalent). Note that this is real data with measurement error, which we expect will impose a baseline level of modeling error.\n",
    "# building_meta.csv\n",
    "# site_id - Foreign key for the weather files.\n",
    "# building_id - Foreign key for training.csv\n",
    "# primary_use - Indicator of the primary category of activities for the building based on EnergyStar property type definitions\n",
    "# square_feet - Gross floor area of the building\n",
    "# year_built - Year building was opened\n",
    "# floor_count - Number of floors of the building\n",
    "# weather_[train/test].csv\n",
    "# Weather data from a meteorological station as close as possible to the site.\n",
    "\n",
    "# site_id\n",
    "# air_temperature - Degrees Celsius\n",
    "# cloud_coverage - Portion of the sky covered in clouds, in oktas\n",
    "# dew_temperature - Degrees Celsius\n",
    "# precip_depth_1_hr - Millimeters\n",
    "# sea_level_pressure - Millibar/hectopascals\n",
    "# wind_direction - Compass direction (0-360)\n",
    "# wind_speed - Meters per second"
   ]
  },
  {
   "cell_type": "markdown",
   "metadata": {
    "Collapsed": "false"
   },
   "source": [
    "### Preprocessing/EDA"
   ]
  },
  {
   "cell_type": "code",
   "execution_count": 5,
   "metadata": {
    "Collapsed": "false"
   },
   "outputs": [],
   "source": [
    "train=train.merge(building, on=['building_id'], how='left')\n",
    "train=train.merge(weather_train, on=['timestamp', 'site_id'], how='left')"
   ]
  },
  {
   "cell_type": "code",
   "execution_count": 6,
   "metadata": {
    "Collapsed": "false"
   },
   "outputs": [],
   "source": [
    "test=test.merge(building, on=['building_id'], how='left')\n",
    "test=test.merge(weather_test, on=['timestamp', 'site_id'], how='left')"
   ]
  },
  {
   "cell_type": "code",
   "execution_count": 7,
   "metadata": {
    "Collapsed": "false"
   },
   "outputs": [
    {
     "data": {
      "text/plain": [
       "463"
      ]
     },
     "execution_count": 7,
     "metadata": {},
     "output_type": "execute_result"
    }
   ],
   "source": [
    "del weather_train, weather_test, building\n",
    "gc.collect()"
   ]
  },
  {
   "cell_type": "code",
   "execution_count": 8,
   "metadata": {
    "Collapsed": "false"
   },
   "outputs": [],
   "source": [
    "#get_stats(train)"
   ]
  },
  {
   "cell_type": "code",
   "execution_count": 9,
   "metadata": {
    "Collapsed": "false"
   },
   "outputs": [],
   "source": [
    "#get_stats(test)"
   ]
  },
  {
   "cell_type": "code",
   "execution_count": 10,
   "metadata": {
    "Collapsed": "false"
   },
   "outputs": [
    {
     "data": {
      "text/html": [
       "<div>\n",
       "<style scoped>\n",
       "    .dataframe tbody tr th:only-of-type {\n",
       "        vertical-align: middle;\n",
       "    }\n",
       "\n",
       "    .dataframe tbody tr th {\n",
       "        vertical-align: top;\n",
       "    }\n",
       "\n",
       "    .dataframe thead th {\n",
       "        text-align: right;\n",
       "    }\n",
       "</style>\n",
       "<table border=\"1\" class=\"dataframe\">\n",
       "  <thead>\n",
       "    <tr style=\"text-align: right;\">\n",
       "      <th></th>\n",
       "      <th>building_id</th>\n",
       "      <th>meter</th>\n",
       "      <th>timestamp</th>\n",
       "      <th>meter_reading</th>\n",
       "      <th>primary_use</th>\n",
       "      <th>square_feet</th>\n",
       "      <th>air_temperature</th>\n",
       "      <th>dew_temperature</th>\n",
       "      <th>wind_direction</th>\n",
       "      <th>wind_speed</th>\n",
       "    </tr>\n",
       "  </thead>\n",
       "  <tbody>\n",
       "    <tr>\n",
       "      <th>0</th>\n",
       "      <td>0</td>\n",
       "      <td>0</td>\n",
       "      <td>2016-01-01 00:00:00</td>\n",
       "      <td>0.0</td>\n",
       "      <td>Education</td>\n",
       "      <td>7432</td>\n",
       "      <td>25.0</td>\n",
       "      <td>20.0</td>\n",
       "      <td>0.0</td>\n",
       "      <td>0.0</td>\n",
       "    </tr>\n",
       "    <tr>\n",
       "      <th>1</th>\n",
       "      <td>1</td>\n",
       "      <td>0</td>\n",
       "      <td>2016-01-01 00:00:00</td>\n",
       "      <td>0.0</td>\n",
       "      <td>Education</td>\n",
       "      <td>2720</td>\n",
       "      <td>25.0</td>\n",
       "      <td>20.0</td>\n",
       "      <td>0.0</td>\n",
       "      <td>0.0</td>\n",
       "    </tr>\n",
       "    <tr>\n",
       "      <th>2</th>\n",
       "      <td>2</td>\n",
       "      <td>0</td>\n",
       "      <td>2016-01-01 00:00:00</td>\n",
       "      <td>0.0</td>\n",
       "      <td>Education</td>\n",
       "      <td>5376</td>\n",
       "      <td>25.0</td>\n",
       "      <td>20.0</td>\n",
       "      <td>0.0</td>\n",
       "      <td>0.0</td>\n",
       "    </tr>\n",
       "    <tr>\n",
       "      <th>3</th>\n",
       "      <td>3</td>\n",
       "      <td>0</td>\n",
       "      <td>2016-01-01 00:00:00</td>\n",
       "      <td>0.0</td>\n",
       "      <td>Education</td>\n",
       "      <td>23685</td>\n",
       "      <td>25.0</td>\n",
       "      <td>20.0</td>\n",
       "      <td>0.0</td>\n",
       "      <td>0.0</td>\n",
       "    </tr>\n",
       "    <tr>\n",
       "      <th>4</th>\n",
       "      <td>4</td>\n",
       "      <td>0</td>\n",
       "      <td>2016-01-01 00:00:00</td>\n",
       "      <td>0.0</td>\n",
       "      <td>Education</td>\n",
       "      <td>116607</td>\n",
       "      <td>25.0</td>\n",
       "      <td>20.0</td>\n",
       "      <td>0.0</td>\n",
       "      <td>0.0</td>\n",
       "    </tr>\n",
       "  </tbody>\n",
       "</table>\n",
       "</div>"
      ],
      "text/plain": [
       "   building_id  meter            timestamp  meter_reading primary_use  \\\n",
       "0            0      0  2016-01-01 00:00:00            0.0   Education   \n",
       "1            1      0  2016-01-01 00:00:00            0.0   Education   \n",
       "2            2      0  2016-01-01 00:00:00            0.0   Education   \n",
       "3            3      0  2016-01-01 00:00:00            0.0   Education   \n",
       "4            4      0  2016-01-01 00:00:00            0.0   Education   \n",
       "\n",
       "   square_feet  air_temperature  dew_temperature  wind_direction  wind_speed  \n",
       "0         7432             25.0             20.0             0.0         0.0  \n",
       "1         2720             25.0             20.0             0.0         0.0  \n",
       "2         5376             25.0             20.0             0.0         0.0  \n",
       "3        23685             25.0             20.0             0.0         0.0  \n",
       "4       116607             25.0             20.0             0.0         0.0  "
      ]
     },
     "execution_count": 10,
     "metadata": {},
     "output_type": "execute_result"
    }
   ],
   "source": [
    "drop_cols = ['precip_depth_1_hr'\n",
    "             , 'year_built'\n",
    "             , 'floor_count'\n",
    "             , 'cloud_coverage'\n",
    "             , 'sea_level_pressure'\n",
    "             #, 'wind_direction'\n",
    "             , 'site_id'\n",
    "            ]\n",
    "train.drop(drop_cols, axis=1, inplace=True)\n",
    "train.head()"
   ]
  },
  {
   "cell_type": "code",
   "execution_count": 11,
   "metadata": {
    "Collapsed": "false"
   },
   "outputs": [
    {
     "data": {
      "text/html": [
       "<div>\n",
       "<style scoped>\n",
       "    .dataframe tbody tr th:only-of-type {\n",
       "        vertical-align: middle;\n",
       "    }\n",
       "\n",
       "    .dataframe tbody tr th {\n",
       "        vertical-align: top;\n",
       "    }\n",
       "\n",
       "    .dataframe thead th {\n",
       "        text-align: right;\n",
       "    }\n",
       "</style>\n",
       "<table border=\"1\" class=\"dataframe\">\n",
       "  <thead>\n",
       "    <tr style=\"text-align: right;\">\n",
       "      <th></th>\n",
       "      <th>row_id</th>\n",
       "      <th>building_id</th>\n",
       "      <th>meter</th>\n",
       "      <th>timestamp</th>\n",
       "      <th>primary_use</th>\n",
       "      <th>square_feet</th>\n",
       "      <th>air_temperature</th>\n",
       "      <th>dew_temperature</th>\n",
       "      <th>wind_direction</th>\n",
       "      <th>wind_speed</th>\n",
       "    </tr>\n",
       "  </thead>\n",
       "  <tbody>\n",
       "    <tr>\n",
       "      <th>0</th>\n",
       "      <td>0</td>\n",
       "      <td>0</td>\n",
       "      <td>0</td>\n",
       "      <td>2017-01-01 00:00:00</td>\n",
       "      <td>Education</td>\n",
       "      <td>7432</td>\n",
       "      <td>17.8</td>\n",
       "      <td>11.7</td>\n",
       "      <td>100.0</td>\n",
       "      <td>3.6</td>\n",
       "    </tr>\n",
       "    <tr>\n",
       "      <th>1</th>\n",
       "      <td>1</td>\n",
       "      <td>1</td>\n",
       "      <td>0</td>\n",
       "      <td>2017-01-01 00:00:00</td>\n",
       "      <td>Education</td>\n",
       "      <td>2720</td>\n",
       "      <td>17.8</td>\n",
       "      <td>11.7</td>\n",
       "      <td>100.0</td>\n",
       "      <td>3.6</td>\n",
       "    </tr>\n",
       "    <tr>\n",
       "      <th>2</th>\n",
       "      <td>2</td>\n",
       "      <td>2</td>\n",
       "      <td>0</td>\n",
       "      <td>2017-01-01 00:00:00</td>\n",
       "      <td>Education</td>\n",
       "      <td>5376</td>\n",
       "      <td>17.8</td>\n",
       "      <td>11.7</td>\n",
       "      <td>100.0</td>\n",
       "      <td>3.6</td>\n",
       "    </tr>\n",
       "    <tr>\n",
       "      <th>3</th>\n",
       "      <td>3</td>\n",
       "      <td>3</td>\n",
       "      <td>0</td>\n",
       "      <td>2017-01-01 00:00:00</td>\n",
       "      <td>Education</td>\n",
       "      <td>23685</td>\n",
       "      <td>17.8</td>\n",
       "      <td>11.7</td>\n",
       "      <td>100.0</td>\n",
       "      <td>3.6</td>\n",
       "    </tr>\n",
       "    <tr>\n",
       "      <th>4</th>\n",
       "      <td>4</td>\n",
       "      <td>4</td>\n",
       "      <td>0</td>\n",
       "      <td>2017-01-01 00:00:00</td>\n",
       "      <td>Education</td>\n",
       "      <td>116607</td>\n",
       "      <td>17.8</td>\n",
       "      <td>11.7</td>\n",
       "      <td>100.0</td>\n",
       "      <td>3.6</td>\n",
       "    </tr>\n",
       "  </tbody>\n",
       "</table>\n",
       "</div>"
      ],
      "text/plain": [
       "   row_id  building_id  meter            timestamp primary_use  square_feet  \\\n",
       "0       0            0      0  2017-01-01 00:00:00   Education         7432   \n",
       "1       1            1      0  2017-01-01 00:00:00   Education         2720   \n",
       "2       2            2      0  2017-01-01 00:00:00   Education         5376   \n",
       "3       3            3      0  2017-01-01 00:00:00   Education        23685   \n",
       "4       4            4      0  2017-01-01 00:00:00   Education       116607   \n",
       "\n",
       "   air_temperature  dew_temperature  wind_direction  wind_speed  \n",
       "0             17.8             11.7           100.0         3.6  \n",
       "1             17.8             11.7           100.0         3.6  \n",
       "2             17.8             11.7           100.0         3.6  \n",
       "3             17.8             11.7           100.0         3.6  \n",
       "4             17.8             11.7           100.0         3.6  "
      ]
     },
     "execution_count": 11,
     "metadata": {},
     "output_type": "execute_result"
    }
   ],
   "source": [
    "test.drop(drop_cols, axis=1, inplace=True)\n",
    "test.head()"
   ]
  },
  {
   "cell_type": "code",
   "execution_count": 12,
   "metadata": {
    "Collapsed": "false"
   },
   "outputs": [],
   "source": [
    "#get_stats(test)"
   ]
  },
  {
   "cell_type": "code",
   "execution_count": 13,
   "metadata": {
    "Collapsed": "false"
   },
   "outputs": [],
   "source": [
    "#get_stats(train)"
   ]
  },
  {
   "cell_type": "code",
   "execution_count": 14,
   "metadata": {
    "Collapsed": "false"
   },
   "outputs": [],
   "source": [
    "#Drop rows with NA\n",
    "train.dropna(inplace=True)\n",
    "\n",
    "#fillna for test\n",
    "test['air_temperature'].fillna(test['air_temperature'].median(), inplace=True)\n",
    "test['dew_temperature'].fillna(test['dew_temperature'].median(), inplace=True)\n",
    "test['wind_speed'].fillna(test['wind_speed'].median(), inplace=True)\n",
    "test['wind_direction'].fillna(test['wind_direction'].median(), inplace=True)"
   ]
  },
  {
   "cell_type": "code",
   "execution_count": 15,
   "metadata": {
    "Collapsed": "false"
   },
   "outputs": [],
   "source": [
    "#encode 'primary_use'\n",
    "from sklearn.preprocessing import LabelEncoder\n",
    "le = LabelEncoder().fit(train['primary_use'])\n",
    "train['primary_use'] = le.transform(train['primary_use'])\n",
    "test['primary_use'] = le.transform(test['primary_use'])\n",
    "\n",
    "# One-hot?"
   ]
  },
  {
   "cell_type": "code",
   "execution_count": 16,
   "metadata": {
    "Collapsed": "false"
   },
   "outputs": [],
   "source": [
    "#fit data type according to the data\n",
    "train['primary_use'] = train['primary_use'].astype('int8')\n",
    "train['air_temperature'] = train['air_temperature'].astype('int8')\n",
    "train['dew_temperature'] = train['dew_temperature'].astype('int8')\n",
    "train['wind_speed'] = train['wind_speed'].astype('float32')\n",
    "train['wind_direction'] = train['wind_direction'].astype('int16')\n",
    "train['building_id'] = train['building_id'].astype('int16')\n",
    "train['meter'] = train['meter'].astype('int8')\n",
    "train['meter_reading'] = train['meter_reading'].astype('int32')\n",
    "train['square_feet'] = train['square_feet'].astype('int32')\n",
    "\n",
    "test['primary_use'] = test['primary_use'].astype('int8')\n",
    "test['air_temperature'] = test['air_temperature'].astype('int8')\n",
    "test['dew_temperature'] = test['dew_temperature'].astype('int8')\n",
    "test['wind_speed'] = test['wind_speed'].astype('float32')\n",
    "test['wind_direction'] = test['wind_direction'].astype('int16')\n",
    "test['building_id'] = test['building_id'].astype('int16')\n",
    "test['meter'] = test['meter'].astype('int8')\n",
    "test['square_feet'] = test['square_feet'].astype('int32')"
   ]
  },
  {
   "cell_type": "code",
   "execution_count": 17,
   "metadata": {
    "Collapsed": "false"
   },
   "outputs": [
    {
     "name": "stdout",
     "output_type": "stream",
     "text": [
      "<class 'pandas.core.frame.DataFrame'>\n",
      "Int64Index: 18761878 entries, 0 to 20216099\n",
      "Data columns (total 10 columns):\n",
      "building_id        int16\n",
      "meter              int8\n",
      "timestamp          object\n",
      "meter_reading      int32\n",
      "primary_use        int8\n",
      "square_feet        int32\n",
      "air_temperature    int8\n",
      "dew_temperature    int8\n",
      "wind_direction     int16\n",
      "wind_speed         float32\n",
      "dtypes: float32(1), int16(2), int32(2), int8(4), object(1)\n",
      "memory usage: 644.1+ MB\n"
     ]
    }
   ],
   "source": [
    "train.info()"
   ]
  },
  {
   "cell_type": "code",
   "execution_count": 18,
   "metadata": {
    "Collapsed": "false"
   },
   "outputs": [
    {
     "name": "stdout",
     "output_type": "stream",
     "text": [
      "<class 'pandas.core.frame.DataFrame'>\n",
      "Int64Index: 41697600 entries, 0 to 41697599\n",
      "Data columns (total 10 columns):\n",
      "row_id             int64\n",
      "building_id        int16\n",
      "meter              int8\n",
      "timestamp          object\n",
      "primary_use        int8\n",
      "square_feet        int32\n",
      "air_temperature    int8\n",
      "dew_temperature    int8\n",
      "wind_direction     int16\n",
      "wind_speed         float32\n",
      "dtypes: float32(1), int16(2), int32(1), int64(1), int8(4), object(1)\n",
      "memory usage: 1.6+ GB\n"
     ]
    }
   ],
   "source": [
    "test.info()"
   ]
  },
  {
   "cell_type": "code",
   "execution_count": 19,
   "metadata": {
    "Collapsed": "false"
   },
   "outputs": [],
   "source": [
    "\n",
    "# building_id=175\n",
    "# meter_id=1\n",
    "\n",
    "# some_building=train.query(f'building_id=={building_id} and meter=={meter_id}')[['meter_reading', 'timestamp']]\n",
    "# some_building['timestamp']=pd.to_datetime(some_building['timestamp'])\n",
    "# some_building.set_index('timestamp', inplace=True)\n",
    "# some_building.plot() \n",
    "# #some_building['2016-08-01':'2016-08-03'].plot() "
   ]
  },
  {
   "cell_type": "markdown",
   "metadata": {
    "Collapsed": "false"
   },
   "source": [
    "#### Feature engineering"
   ]
  },
  {
   "cell_type": "code",
   "execution_count": 20,
   "metadata": {
    "Collapsed": "false"
   },
   "outputs": [],
   "source": [
    "# # impute temperature and windspeed by mean value\n",
    "# train['air_temperature'].fillna(train['air_temperature'].median(), inplace=True)\n",
    "# train['dew_temperature'].fillna(train['dew_temperature'].median(), inplace=True)\n",
    "# train['wind_speed'].fillna(train['wind_speed'].median(), inplace=True)\n",
    "\n",
    "# test['air_temperature'].fillna(test['air_temperature'].median(), inplace=True)\n",
    "# test['dew_temperature'].fillna(test['dew_temperature'].median(), inplace=True)\n",
    "# test['wind_speed'].fillna(test['wind_speed'].median(), inplace=True)"
   ]
  },
  {
   "cell_type": "code",
   "execution_count": 21,
   "metadata": {
    "Collapsed": "false"
   },
   "outputs": [
    {
     "data": {
      "text/html": [
       "<div>\n",
       "<style scoped>\n",
       "    .dataframe tbody tr th:only-of-type {\n",
       "        vertical-align: middle;\n",
       "    }\n",
       "\n",
       "    .dataframe tbody tr th {\n",
       "        vertical-align: top;\n",
       "    }\n",
       "\n",
       "    .dataframe thead th {\n",
       "        text-align: right;\n",
       "    }\n",
       "</style>\n",
       "<table border=\"1\" class=\"dataframe\">\n",
       "  <thead>\n",
       "    <tr style=\"text-align: right;\">\n",
       "      <th></th>\n",
       "      <th>building_id</th>\n",
       "      <th>meter</th>\n",
       "      <th>meter_reading</th>\n",
       "      <th>primary_use</th>\n",
       "      <th>square_feet</th>\n",
       "      <th>air_temperature</th>\n",
       "      <th>dew_temperature</th>\n",
       "      <th>wind_direction</th>\n",
       "      <th>wind_speed</th>\n",
       "      <th>hour</th>\n",
       "      <th>day</th>\n",
       "      <th>weekday</th>\n",
       "      <th>month</th>\n",
       "      <th>weekend</th>\n",
       "      <th>work_time</th>\n",
       "      <th>season</th>\n",
       "    </tr>\n",
       "  </thead>\n",
       "  <tbody>\n",
       "    <tr>\n",
       "      <th>0</th>\n",
       "      <td>0</td>\n",
       "      <td>0</td>\n",
       "      <td>0</td>\n",
       "      <td>0</td>\n",
       "      <td>7432</td>\n",
       "      <td>25</td>\n",
       "      <td>20</td>\n",
       "      <td>0</td>\n",
       "      <td>0.0</td>\n",
       "      <td>0</td>\n",
       "      <td>1</td>\n",
       "      <td>4</td>\n",
       "      <td>1</td>\n",
       "      <td>0</td>\n",
       "      <td>0</td>\n",
       "      <td>1</td>\n",
       "    </tr>\n",
       "    <tr>\n",
       "      <th>1</th>\n",
       "      <td>1</td>\n",
       "      <td>0</td>\n",
       "      <td>0</td>\n",
       "      <td>0</td>\n",
       "      <td>2720</td>\n",
       "      <td>25</td>\n",
       "      <td>20</td>\n",
       "      <td>0</td>\n",
       "      <td>0.0</td>\n",
       "      <td>0</td>\n",
       "      <td>1</td>\n",
       "      <td>4</td>\n",
       "      <td>1</td>\n",
       "      <td>0</td>\n",
       "      <td>0</td>\n",
       "      <td>1</td>\n",
       "    </tr>\n",
       "    <tr>\n",
       "      <th>2</th>\n",
       "      <td>2</td>\n",
       "      <td>0</td>\n",
       "      <td>0</td>\n",
       "      <td>0</td>\n",
       "      <td>5376</td>\n",
       "      <td>25</td>\n",
       "      <td>20</td>\n",
       "      <td>0</td>\n",
       "      <td>0.0</td>\n",
       "      <td>0</td>\n",
       "      <td>1</td>\n",
       "      <td>4</td>\n",
       "      <td>1</td>\n",
       "      <td>0</td>\n",
       "      <td>0</td>\n",
       "      <td>1</td>\n",
       "    </tr>\n",
       "    <tr>\n",
       "      <th>3</th>\n",
       "      <td>3</td>\n",
       "      <td>0</td>\n",
       "      <td>0</td>\n",
       "      <td>0</td>\n",
       "      <td>23685</td>\n",
       "      <td>25</td>\n",
       "      <td>20</td>\n",
       "      <td>0</td>\n",
       "      <td>0.0</td>\n",
       "      <td>0</td>\n",
       "      <td>1</td>\n",
       "      <td>4</td>\n",
       "      <td>1</td>\n",
       "      <td>0</td>\n",
       "      <td>0</td>\n",
       "      <td>1</td>\n",
       "    </tr>\n",
       "    <tr>\n",
       "      <th>4</th>\n",
       "      <td>4</td>\n",
       "      <td>0</td>\n",
       "      <td>0</td>\n",
       "      <td>0</td>\n",
       "      <td>116607</td>\n",
       "      <td>25</td>\n",
       "      <td>20</td>\n",
       "      <td>0</td>\n",
       "      <td>0.0</td>\n",
       "      <td>0</td>\n",
       "      <td>1</td>\n",
       "      <td>4</td>\n",
       "      <td>1</td>\n",
       "      <td>0</td>\n",
       "      <td>0</td>\n",
       "      <td>1</td>\n",
       "    </tr>\n",
       "  </tbody>\n",
       "</table>\n",
       "</div>"
      ],
      "text/plain": [
       "   building_id  meter  meter_reading  primary_use  square_feet  \\\n",
       "0            0      0              0            0         7432   \n",
       "1            1      0              0            0         2720   \n",
       "2            2      0              0            0         5376   \n",
       "3            3      0              0            0        23685   \n",
       "4            4      0              0            0       116607   \n",
       "\n",
       "   air_temperature  dew_temperature  wind_direction  wind_speed  hour  day  \\\n",
       "0               25               20               0         0.0     0    1   \n",
       "1               25               20               0         0.0     0    1   \n",
       "2               25               20               0         0.0     0    1   \n",
       "3               25               20               0         0.0     0    1   \n",
       "4               25               20               0         0.0     0    1   \n",
       "\n",
       "   weekday  month  weekend  work_time  season  \n",
       "0        4      1        0          0       1  \n",
       "1        4      1        0          0       1  \n",
       "2        4      1        0          0       1  \n",
       "3        4      1        0          0       1  \n",
       "4        4      1        0          0       1  "
      ]
     },
     "execution_count": 21,
     "metadata": {},
     "output_type": "execute_result"
    }
   ],
   "source": [
    "#parse timestamp\n",
    "train['timestamp'] = pd.to_datetime(train['timestamp'])\n",
    "train['hour'] = train['timestamp'].dt.hour.astype('int8')\n",
    "train['day'] = train['timestamp'].dt.day.astype('int8')\n",
    "train['weekday'] = train['timestamp'].dt.weekday.astype('int8')\n",
    "train['month'] = train['timestamp'].dt.month.astype('int8')\n",
    "train['weekend'] = np.where(train['weekday']>=5, 1, 0).astype('int8')\n",
    "train['work_time'] = np.where((train['hour']>=9)&(train['hour']<=18)&(train['weekend']==0), 1, 0).astype('int8')\n",
    "train['season'] = ((train['month']%12 + 3)//3).astype('int8')\n",
    "train.drop('timestamp', axis=1, inplace=True)\n",
    "train.head()"
   ]
  },
  {
   "cell_type": "code",
   "execution_count": 22,
   "metadata": {
    "Collapsed": "false"
   },
   "outputs": [
    {
     "data": {
      "text/html": [
       "<div>\n",
       "<style scoped>\n",
       "    .dataframe tbody tr th:only-of-type {\n",
       "        vertical-align: middle;\n",
       "    }\n",
       "\n",
       "    .dataframe tbody tr th {\n",
       "        vertical-align: top;\n",
       "    }\n",
       "\n",
       "    .dataframe thead th {\n",
       "        text-align: right;\n",
       "    }\n",
       "</style>\n",
       "<table border=\"1\" class=\"dataframe\">\n",
       "  <thead>\n",
       "    <tr style=\"text-align: right;\">\n",
       "      <th></th>\n",
       "      <th>row_id</th>\n",
       "      <th>building_id</th>\n",
       "      <th>meter</th>\n",
       "      <th>primary_use</th>\n",
       "      <th>square_feet</th>\n",
       "      <th>air_temperature</th>\n",
       "      <th>dew_temperature</th>\n",
       "      <th>wind_direction</th>\n",
       "      <th>wind_speed</th>\n",
       "      <th>hour</th>\n",
       "      <th>day</th>\n",
       "      <th>weekday</th>\n",
       "      <th>month</th>\n",
       "      <th>weekend</th>\n",
       "      <th>work_time</th>\n",
       "      <th>season</th>\n",
       "    </tr>\n",
       "  </thead>\n",
       "  <tbody>\n",
       "    <tr>\n",
       "      <th>0</th>\n",
       "      <td>0</td>\n",
       "      <td>0</td>\n",
       "      <td>0</td>\n",
       "      <td>0</td>\n",
       "      <td>7432</td>\n",
       "      <td>17</td>\n",
       "      <td>11</td>\n",
       "      <td>100</td>\n",
       "      <td>3.6</td>\n",
       "      <td>0</td>\n",
       "      <td>1</td>\n",
       "      <td>6</td>\n",
       "      <td>1</td>\n",
       "      <td>1</td>\n",
       "      <td>0</td>\n",
       "      <td>1</td>\n",
       "    </tr>\n",
       "    <tr>\n",
       "      <th>1</th>\n",
       "      <td>1</td>\n",
       "      <td>1</td>\n",
       "      <td>0</td>\n",
       "      <td>0</td>\n",
       "      <td>2720</td>\n",
       "      <td>17</td>\n",
       "      <td>11</td>\n",
       "      <td>100</td>\n",
       "      <td>3.6</td>\n",
       "      <td>0</td>\n",
       "      <td>1</td>\n",
       "      <td>6</td>\n",
       "      <td>1</td>\n",
       "      <td>1</td>\n",
       "      <td>0</td>\n",
       "      <td>1</td>\n",
       "    </tr>\n",
       "    <tr>\n",
       "      <th>2</th>\n",
       "      <td>2</td>\n",
       "      <td>2</td>\n",
       "      <td>0</td>\n",
       "      <td>0</td>\n",
       "      <td>5376</td>\n",
       "      <td>17</td>\n",
       "      <td>11</td>\n",
       "      <td>100</td>\n",
       "      <td>3.6</td>\n",
       "      <td>0</td>\n",
       "      <td>1</td>\n",
       "      <td>6</td>\n",
       "      <td>1</td>\n",
       "      <td>1</td>\n",
       "      <td>0</td>\n",
       "      <td>1</td>\n",
       "    </tr>\n",
       "    <tr>\n",
       "      <th>3</th>\n",
       "      <td>3</td>\n",
       "      <td>3</td>\n",
       "      <td>0</td>\n",
       "      <td>0</td>\n",
       "      <td>23685</td>\n",
       "      <td>17</td>\n",
       "      <td>11</td>\n",
       "      <td>100</td>\n",
       "      <td>3.6</td>\n",
       "      <td>0</td>\n",
       "      <td>1</td>\n",
       "      <td>6</td>\n",
       "      <td>1</td>\n",
       "      <td>1</td>\n",
       "      <td>0</td>\n",
       "      <td>1</td>\n",
       "    </tr>\n",
       "    <tr>\n",
       "      <th>4</th>\n",
       "      <td>4</td>\n",
       "      <td>4</td>\n",
       "      <td>0</td>\n",
       "      <td>0</td>\n",
       "      <td>116607</td>\n",
       "      <td>17</td>\n",
       "      <td>11</td>\n",
       "      <td>100</td>\n",
       "      <td>3.6</td>\n",
       "      <td>0</td>\n",
       "      <td>1</td>\n",
       "      <td>6</td>\n",
       "      <td>1</td>\n",
       "      <td>1</td>\n",
       "      <td>0</td>\n",
       "      <td>1</td>\n",
       "    </tr>\n",
       "  </tbody>\n",
       "</table>\n",
       "</div>"
      ],
      "text/plain": [
       "   row_id  building_id  meter  primary_use  square_feet  air_temperature  \\\n",
       "0       0            0      0            0         7432               17   \n",
       "1       1            1      0            0         2720               17   \n",
       "2       2            2      0            0         5376               17   \n",
       "3       3            3      0            0        23685               17   \n",
       "4       4            4      0            0       116607               17   \n",
       "\n",
       "   dew_temperature  wind_direction  wind_speed  hour  day  weekday  month  \\\n",
       "0               11             100         3.6     0    1        6      1   \n",
       "1               11             100         3.6     0    1        6      1   \n",
       "2               11             100         3.6     0    1        6      1   \n",
       "3               11             100         3.6     0    1        6      1   \n",
       "4               11             100         3.6     0    1        6      1   \n",
       "\n",
       "   weekend  work_time  season  \n",
       "0        1          0       1  \n",
       "1        1          0       1  \n",
       "2        1          0       1  \n",
       "3        1          0       1  \n",
       "4        1          0       1  "
      ]
     },
     "execution_count": 22,
     "metadata": {},
     "output_type": "execute_result"
    }
   ],
   "source": [
    "#parse timestamp\n",
    "test['timestamp'] = pd.to_datetime(test['timestamp'])\n",
    "test['hour'] = test['timestamp'].dt.hour.astype('int8')\n",
    "test['day'] = test['timestamp'].dt.day.astype('int8')\n",
    "test['weekday'] = test['timestamp'].dt.weekday.astype('int8')\n",
    "test['month'] = test['timestamp'].dt.month.astype('int8')\n",
    "test['weekend'] = np.where(test['weekday']>=5, 1, 0)\n",
    "test['work_time'] = np.where((test['hour']>=9)&(test['hour']<=18)&(test['weekend']==0), 1, 0).astype('int8')\n",
    "test['season'] = ((test['month']%12 + 3)//3).astype('int8')\n",
    "test.drop('timestamp', axis=1, inplace=True)\n",
    "test.head()"
   ]
  },
  {
   "cell_type": "code",
   "execution_count": null,
   "metadata": {
    "Collapsed": "false"
   },
   "outputs": [],
   "source": []
  },
  {
   "cell_type": "code",
   "execution_count": 23,
   "metadata": {
    "Collapsed": "false"
   },
   "outputs": [
    {
     "name": "stdout",
     "output_type": "stream",
     "text": [
      "Couldn't find program: 'false'\n"
     ]
    }
   ],
   "source": [
    "%%script false\n",
    "train['consumption'] = train.groupby(['meter', 'air_temperature', 'primary_use', 'hour'])['meter_reading'].transform('sum')\n",
    "train['square'] = train.groupby(['meter', 'air_temperature', 'primary_use', 'hour'])['square_feet'].transform('sum')\n",
    "train['consumption_square_ratio'] = (train['consumption']/train['square'])\n",
    "train.drop(['consumption','square'],axis=1, inplace=True)"
   ]
  },
  {
   "cell_type": "code",
   "execution_count": 24,
   "metadata": {
    "Collapsed": "false"
   },
   "outputs": [
    {
     "name": "stdout",
     "output_type": "stream",
     "text": [
      "Couldn't find program: 'false'\n"
     ]
    }
   ],
   "source": [
    "%%script false\n",
    "map_dict=train.groupby(['meter', 'air_temperature', 'primary_use', 'hour'])['consumption_square_ratio'].median().to_dict()"
   ]
  },
  {
   "cell_type": "code",
   "execution_count": 25,
   "metadata": {
    "Collapsed": "false"
   },
   "outputs": [
    {
     "name": "stdout",
     "output_type": "stream",
     "text": [
      "Couldn't find program: 'false'\n"
     ]
    }
   ],
   "source": [
    "%%script false\n",
    "test=test.set_index(['meter', 'air_temperature', 'primary_use', 'hour'])\n",
    "test['consumption_square_ratio']=test.index.map(map_dict)\n",
    "test.reset_index(inplace=True)\n",
    "test.head()"
   ]
  },
  {
   "cell_type": "code",
   "execution_count": 26,
   "metadata": {
    "Collapsed": "false"
   },
   "outputs": [
    {
     "data": {
      "text/html": [
       "<div>\n",
       "<style scoped>\n",
       "    .dataframe tbody tr th:only-of-type {\n",
       "        vertical-align: middle;\n",
       "    }\n",
       "\n",
       "    .dataframe tbody tr th {\n",
       "        vertical-align: top;\n",
       "    }\n",
       "\n",
       "    .dataframe thead th {\n",
       "        text-align: right;\n",
       "    }\n",
       "</style>\n",
       "<table border=\"1\" class=\"dataframe\">\n",
       "  <thead>\n",
       "    <tr style=\"text-align: right;\">\n",
       "      <th></th>\n",
       "      <th>building_id</th>\n",
       "      <th>meter</th>\n",
       "      <th>meter_reading</th>\n",
       "      <th>primary_use</th>\n",
       "      <th>square_feet</th>\n",
       "      <th>air_temperature</th>\n",
       "      <th>dew_temperature</th>\n",
       "      <th>wind_direction</th>\n",
       "      <th>wind_speed</th>\n",
       "      <th>hour</th>\n",
       "      <th>day</th>\n",
       "      <th>weekday</th>\n",
       "      <th>month</th>\n",
       "      <th>weekend</th>\n",
       "      <th>work_time</th>\n",
       "      <th>season</th>\n",
       "    </tr>\n",
       "  </thead>\n",
       "  <tbody>\n",
       "    <tr>\n",
       "      <th>0</th>\n",
       "      <td>0</td>\n",
       "      <td>0</td>\n",
       "      <td>NaN</td>\n",
       "      <td>0</td>\n",
       "      <td>7432</td>\n",
       "      <td>17</td>\n",
       "      <td>11</td>\n",
       "      <td>100</td>\n",
       "      <td>3.6</td>\n",
       "      <td>0</td>\n",
       "      <td>1</td>\n",
       "      <td>6</td>\n",
       "      <td>1</td>\n",
       "      <td>1</td>\n",
       "      <td>0</td>\n",
       "      <td>1</td>\n",
       "    </tr>\n",
       "    <tr>\n",
       "      <th>1</th>\n",
       "      <td>1</td>\n",
       "      <td>0</td>\n",
       "      <td>NaN</td>\n",
       "      <td>0</td>\n",
       "      <td>2720</td>\n",
       "      <td>17</td>\n",
       "      <td>11</td>\n",
       "      <td>100</td>\n",
       "      <td>3.6</td>\n",
       "      <td>0</td>\n",
       "      <td>1</td>\n",
       "      <td>6</td>\n",
       "      <td>1</td>\n",
       "      <td>1</td>\n",
       "      <td>0</td>\n",
       "      <td>1</td>\n",
       "    </tr>\n",
       "    <tr>\n",
       "      <th>2</th>\n",
       "      <td>2</td>\n",
       "      <td>0</td>\n",
       "      <td>NaN</td>\n",
       "      <td>0</td>\n",
       "      <td>5376</td>\n",
       "      <td>17</td>\n",
       "      <td>11</td>\n",
       "      <td>100</td>\n",
       "      <td>3.6</td>\n",
       "      <td>0</td>\n",
       "      <td>1</td>\n",
       "      <td>6</td>\n",
       "      <td>1</td>\n",
       "      <td>1</td>\n",
       "      <td>0</td>\n",
       "      <td>1</td>\n",
       "    </tr>\n",
       "    <tr>\n",
       "      <th>3</th>\n",
       "      <td>3</td>\n",
       "      <td>0</td>\n",
       "      <td>NaN</td>\n",
       "      <td>0</td>\n",
       "      <td>23685</td>\n",
       "      <td>17</td>\n",
       "      <td>11</td>\n",
       "      <td>100</td>\n",
       "      <td>3.6</td>\n",
       "      <td>0</td>\n",
       "      <td>1</td>\n",
       "      <td>6</td>\n",
       "      <td>1</td>\n",
       "      <td>1</td>\n",
       "      <td>0</td>\n",
       "      <td>1</td>\n",
       "    </tr>\n",
       "    <tr>\n",
       "      <th>4</th>\n",
       "      <td>4</td>\n",
       "      <td>0</td>\n",
       "      <td>NaN</td>\n",
       "      <td>0</td>\n",
       "      <td>116607</td>\n",
       "      <td>17</td>\n",
       "      <td>11</td>\n",
       "      <td>100</td>\n",
       "      <td>3.6</td>\n",
       "      <td>0</td>\n",
       "      <td>1</td>\n",
       "      <td>6</td>\n",
       "      <td>1</td>\n",
       "      <td>1</td>\n",
       "      <td>0</td>\n",
       "      <td>1</td>\n",
       "    </tr>\n",
       "  </tbody>\n",
       "</table>\n",
       "</div>"
      ],
      "text/plain": [
       "   building_id  meter  meter_reading  primary_use  square_feet  \\\n",
       "0            0      0            NaN            0         7432   \n",
       "1            1      0            NaN            0         2720   \n",
       "2            2      0            NaN            0         5376   \n",
       "3            3      0            NaN            0        23685   \n",
       "4            4      0            NaN            0       116607   \n",
       "\n",
       "   air_temperature  dew_temperature  wind_direction  wind_speed  hour  day  \\\n",
       "0               17               11             100         3.6     0    1   \n",
       "1               17               11             100         3.6     0    1   \n",
       "2               17               11             100         3.6     0    1   \n",
       "3               17               11             100         3.6     0    1   \n",
       "4               17               11             100         3.6     0    1   \n",
       "\n",
       "   weekday  month  weekend  work_time  season  \n",
       "0        6      1        1          0       1  \n",
       "1        6      1        1          0       1  \n",
       "2        6      1        1          0       1  \n",
       "3        6      1        1          0       1  \n",
       "4        6      1        1          0       1  "
      ]
     },
     "execution_count": 26,
     "metadata": {},
     "output_type": "execute_result"
    }
   ],
   "source": [
    "test = test.reindex(columns=train.columns)\n",
    "test.head()"
   ]
  },
  {
   "cell_type": "code",
   "execution_count": null,
   "metadata": {
    "Collapsed": "false"
   },
   "outputs": [],
   "source": []
  },
  {
   "cell_type": "code",
   "execution_count": 27,
   "metadata": {
    "Collapsed": "false"
   },
   "outputs": [],
   "source": [
    "# #looks like there may be some errors with some of the readings\n",
    "# train[train['site_id'] == 0].plot('timestamp', 'meter_reading')"
   ]
  },
  {
   "cell_type": "code",
   "execution_count": null,
   "metadata": {
    "Collapsed": "false"
   },
   "outputs": [],
   "source": []
  },
  {
   "cell_type": "code",
   "execution_count": null,
   "metadata": {
    "Collapsed": "false"
   },
   "outputs": [],
   "source": []
  },
  {
   "cell_type": "markdown",
   "metadata": {
    "Collapsed": "false"
   },
   "source": [
    "### Modelling"
   ]
  },
  {
   "cell_type": "code",
   "execution_count": 28,
   "metadata": {
    "Collapsed": "false"
   },
   "outputs": [
    {
     "data": {
      "text/plain": [
       "762"
      ]
     },
     "execution_count": 28,
     "metadata": {},
     "output_type": "execute_result"
    }
   ],
   "source": [
    "X_train = train.drop('meter_reading', axis=1)\n",
    "X_test = test.drop('meter_reading', axis=1)\n",
    "y = np.log1p(train[['meter_reading']].values.reshape(-1,1)).squeeze()\n",
    "\n",
    "del train\n",
    "del test\n",
    "gc.collect()\n"
   ]
  },
  {
   "cell_type": "code",
   "execution_count": 29,
   "metadata": {
    "Collapsed": "false"
   },
   "outputs": [
    {
     "name": "stdout",
     "output_type": "stream",
     "text": [
      "12507918 6253960\n"
     ]
    },
    {
     "name": "stderr",
     "output_type": "stream",
     "text": [
      "C:\\ProgramData\\Anaconda3\\lib\\site-packages\\lightgbm\\engine.py:153: UserWarning: Found `early_stopping_rounds` in params. Will use it instead of argument\n",
      "  warnings.warn(\"Found `{}` in params. Will use it instead of argument\".format(alias))\n"
     ]
    },
    {
     "name": "stdout",
     "output_type": "stream",
     "text": [
      "[1]\tvalid_0's l2: 4.19124\n",
      "Training until validation scores don't improve for 50 rounds\n",
      "[2]\tvalid_0's l2: 3.79895\n",
      "[3]\tvalid_0's l2: 3.49963\n",
      "[4]\tvalid_0's l2: 3.28003\n",
      "[5]\tvalid_0's l2: 3.08992\n",
      "[6]\tvalid_0's l2: 2.95412\n",
      "[7]\tvalid_0's l2: 2.85419\n",
      "[8]\tvalid_0's l2: 2.77207\n",
      "[9]\tvalid_0's l2: 2.68397\n",
      "[10]\tvalid_0's l2: 2.61015\n",
      "[11]\tvalid_0's l2: 2.54238\n",
      "[12]\tvalid_0's l2: 2.48462\n",
      "[13]\tvalid_0's l2: 2.43882\n",
      "[14]\tvalid_0's l2: 2.37637\n",
      "[15]\tvalid_0's l2: 2.3359\n",
      "[16]\tvalid_0's l2: 2.29739\n",
      "[17]\tvalid_0's l2: 2.2565\n",
      "[18]\tvalid_0's l2: 2.20755\n",
      "[19]\tvalid_0's l2: 2.18282\n",
      "[20]\tvalid_0's l2: 2.16677\n",
      "[21]\tvalid_0's l2: 2.13947\n",
      "[22]\tvalid_0's l2: 2.12447\n",
      "[23]\tvalid_0's l2: 2.09734\n",
      "[24]\tvalid_0's l2: 2.06862\n",
      "[25]\tvalid_0's l2: 2.04727\n",
      "[26]\tvalid_0's l2: 2.02985\n",
      "[27]\tvalid_0's l2: 2.01652\n",
      "[28]\tvalid_0's l2: 2.00601\n",
      "[29]\tvalid_0's l2: 1.99142\n",
      "[30]\tvalid_0's l2: 1.97636\n",
      "[31]\tvalid_0's l2: 1.95853\n",
      "[32]\tvalid_0's l2: 1.94732\n",
      "[33]\tvalid_0's l2: 1.93041\n",
      "[34]\tvalid_0's l2: 1.92054\n",
      "[35]\tvalid_0's l2: 1.91232\n",
      "[36]\tvalid_0's l2: 1.89937\n",
      "[37]\tvalid_0's l2: 1.88508\n",
      "[38]\tvalid_0's l2: 1.86921\n",
      "[39]\tvalid_0's l2: 1.86174\n",
      "[40]\tvalid_0's l2: 1.85137\n",
      "[41]\tvalid_0's l2: 1.84249\n",
      "[42]\tvalid_0's l2: 1.83639\n",
      "[43]\tvalid_0's l2: 1.82087\n",
      "[44]\tvalid_0's l2: 1.8132\n",
      "[45]\tvalid_0's l2: 1.80503\n",
      "[46]\tvalid_0's l2: 1.78472\n",
      "[47]\tvalid_0's l2: 1.76215\n",
      "[48]\tvalid_0's l2: 1.75755\n",
      "[49]\tvalid_0's l2: 1.74941\n",
      "[50]\tvalid_0's l2: 1.7329\n",
      "[51]\tvalid_0's l2: 1.72655\n",
      "[52]\tvalid_0's l2: 1.72218\n",
      "[53]\tvalid_0's l2: 1.71626\n",
      "[54]\tvalid_0's l2: 1.71272\n",
      "[55]\tvalid_0's l2: 1.7028\n",
      "[56]\tvalid_0's l2: 1.69387\n",
      "[57]\tvalid_0's l2: 1.69019\n",
      "[58]\tvalid_0's l2: 1.68469\n",
      "[59]\tvalid_0's l2: 1.66908\n",
      "[60]\tvalid_0's l2: 1.66227\n",
      "[61]\tvalid_0's l2: 1.65605\n",
      "[62]\tvalid_0's l2: 1.65123\n",
      "[63]\tvalid_0's l2: 1.64623\n",
      "[64]\tvalid_0's l2: 1.64302\n",
      "[65]\tvalid_0's l2: 1.63979\n",
      "[66]\tvalid_0's l2: 1.63386\n",
      "[67]\tvalid_0's l2: 1.63109\n",
      "[68]\tvalid_0's l2: 1.62268\n",
      "[69]\tvalid_0's l2: 1.61898\n",
      "[70]\tvalid_0's l2: 1.60817\n",
      "[71]\tvalid_0's l2: 1.60214\n",
      "[72]\tvalid_0's l2: 1.59189\n",
      "[73]\tvalid_0's l2: 1.58181\n",
      "[74]\tvalid_0's l2: 1.57448\n",
      "[75]\tvalid_0's l2: 1.56382\n",
      "[76]\tvalid_0's l2: 1.5556\n",
      "[77]\tvalid_0's l2: 1.54713\n",
      "[78]\tvalid_0's l2: 1.53671\n",
      "[79]\tvalid_0's l2: 1.53145\n",
      "[80]\tvalid_0's l2: 1.52942\n",
      "[81]\tvalid_0's l2: 1.52739\n",
      "[82]\tvalid_0's l2: 1.51741\n",
      "[83]\tvalid_0's l2: 1.50848\n",
      "[84]\tvalid_0's l2: 1.50103\n",
      "[85]\tvalid_0's l2: 1.49835\n",
      "[86]\tvalid_0's l2: 1.4953\n",
      "[87]\tvalid_0's l2: 1.48886\n",
      "[88]\tvalid_0's l2: 1.48238\n",
      "[89]\tvalid_0's l2: 1.4755\n",
      "[90]\tvalid_0's l2: 1.47202\n",
      "[91]\tvalid_0's l2: 1.46471\n",
      "[92]\tvalid_0's l2: 1.46333\n",
      "[93]\tvalid_0's l2: 1.45387\n",
      "[94]\tvalid_0's l2: 1.45058\n",
      "[95]\tvalid_0's l2: 1.43986\n",
      "[96]\tvalid_0's l2: 1.43521\n",
      "[97]\tvalid_0's l2: 1.43001\n",
      "[98]\tvalid_0's l2: 1.42612\n",
      "[99]\tvalid_0's l2: 1.42005\n",
      "[100]\tvalid_0's l2: 1.41507\n",
      "Did not meet early stopping. Best iteration is:\n",
      "[100]\tvalid_0's l2: 1.41507\n",
      "12507919 6253959\n",
      "[1]\tvalid_0's l2: 4.18664\n",
      "Training until validation scores don't improve for 50 rounds\n",
      "[2]\tvalid_0's l2: 3.80166\n",
      "[3]\tvalid_0's l2: 3.50124\n",
      "[4]\tvalid_0's l2: 3.26881\n",
      "[5]\tvalid_0's l2: 3.09778\n",
      "[6]\tvalid_0's l2: 2.96261\n",
      "[7]\tvalid_0's l2: 2.87357\n",
      "[8]\tvalid_0's l2: 2.79134\n",
      "[9]\tvalid_0's l2: 2.69491\n",
      "[10]\tvalid_0's l2: 2.61872\n",
      "[11]\tvalid_0's l2: 2.55875\n",
      "[12]\tvalid_0's l2: 2.51079\n",
      "[13]\tvalid_0's l2: 2.45046\n",
      "[14]\tvalid_0's l2: 2.39821\n",
      "[15]\tvalid_0's l2: 2.33605\n",
      "[16]\tvalid_0's l2: 2.29577\n",
      "[17]\tvalid_0's l2: 2.25599\n",
      "[18]\tvalid_0's l2: 2.23116\n",
      "[19]\tvalid_0's l2: 2.21007\n",
      "[20]\tvalid_0's l2: 2.1802\n",
      "[21]\tvalid_0's l2: 2.14808\n",
      "[22]\tvalid_0's l2: 2.12781\n",
      "[23]\tvalid_0's l2: 2.10193\n",
      "[24]\tvalid_0's l2: 2.07538\n",
      "[25]\tvalid_0's l2: 2.05236\n",
      "[26]\tvalid_0's l2: 2.03187\n",
      "[27]\tvalid_0's l2: 2.02017\n",
      "[28]\tvalid_0's l2: 2.00553\n",
      "[29]\tvalid_0's l2: 1.99095\n",
      "[30]\tvalid_0's l2: 1.97293\n",
      "[31]\tvalid_0's l2: 1.96175\n",
      "[32]\tvalid_0's l2: 1.95215\n",
      "[33]\tvalid_0's l2: 1.92804\n",
      "[34]\tvalid_0's l2: 1.91467\n",
      "[35]\tvalid_0's l2: 1.90017\n",
      "[36]\tvalid_0's l2: 1.88971\n",
      "[37]\tvalid_0's l2: 1.87787\n",
      "[38]\tvalid_0's l2: 1.86979\n",
      "[39]\tvalid_0's l2: 1.85825\n",
      "[40]\tvalid_0's l2: 1.84781\n",
      "[41]\tvalid_0's l2: 1.82719\n",
      "[42]\tvalid_0's l2: 1.80286\n",
      "[43]\tvalid_0's l2: 1.79306\n",
      "[44]\tvalid_0's l2: 1.78869\n",
      "[45]\tvalid_0's l2: 1.78256\n",
      "[46]\tvalid_0's l2: 1.77497\n",
      "[47]\tvalid_0's l2: 1.75855\n",
      "[48]\tvalid_0's l2: 1.74411\n",
      "[49]\tvalid_0's l2: 1.73461\n",
      "[50]\tvalid_0's l2: 1.71666\n",
      "[51]\tvalid_0's l2: 1.71217\n",
      "[52]\tvalid_0's l2: 1.70728\n",
      "[53]\tvalid_0's l2: 1.70111\n",
      "[54]\tvalid_0's l2: 1.69484\n",
      "[55]\tvalid_0's l2: 1.68766\n",
      "[56]\tvalid_0's l2: 1.6806\n",
      "[57]\tvalid_0's l2: 1.66872\n",
      "[58]\tvalid_0's l2: 1.6643\n",
      "[59]\tvalid_0's l2: 1.65886\n",
      "[60]\tvalid_0's l2: 1.65002\n",
      "[61]\tvalid_0's l2: 1.64011\n",
      "[62]\tvalid_0's l2: 1.63605\n",
      "[63]\tvalid_0's l2: 1.62928\n",
      "[64]\tvalid_0's l2: 1.62635\n",
      "[65]\tvalid_0's l2: 1.61754\n",
      "[66]\tvalid_0's l2: 1.60671\n",
      "[67]\tvalid_0's l2: 1.60263\n",
      "[68]\tvalid_0's l2: 1.597\n",
      "[69]\tvalid_0's l2: 1.5898\n",
      "[70]\tvalid_0's l2: 1.58637\n",
      "[71]\tvalid_0's l2: 1.57705\n",
      "[72]\tvalid_0's l2: 1.5709\n",
      "[73]\tvalid_0's l2: 1.56582\n",
      "[74]\tvalid_0's l2: 1.55768\n",
      "[75]\tvalid_0's l2: 1.54496\n",
      "[76]\tvalid_0's l2: 1.53589\n",
      "[77]\tvalid_0's l2: 1.53238\n",
      "[78]\tvalid_0's l2: 1.52826\n",
      "[79]\tvalid_0's l2: 1.52572\n",
      "[80]\tvalid_0's l2: 1.51982\n",
      "[81]\tvalid_0's l2: 1.51138\n",
      "[82]\tvalid_0's l2: 1.50599\n",
      "[83]\tvalid_0's l2: 1.49847\n",
      "[84]\tvalid_0's l2: 1.49197\n",
      "[85]\tvalid_0's l2: 1.4893\n",
      "[86]\tvalid_0's l2: 1.48648\n",
      "[87]\tvalid_0's l2: 1.48326\n",
      "[88]\tvalid_0's l2: 1.47529\n",
      "[89]\tvalid_0's l2: 1.47278\n",
      "[90]\tvalid_0's l2: 1.46672\n",
      "[91]\tvalid_0's l2: 1.46426\n",
      "[92]\tvalid_0's l2: 1.45844\n",
      "[93]\tvalid_0's l2: 1.45298\n",
      "[94]\tvalid_0's l2: 1.44624\n",
      "[95]\tvalid_0's l2: 1.43738\n",
      "[96]\tvalid_0's l2: 1.43363\n",
      "[97]\tvalid_0's l2: 1.43136\n",
      "[98]\tvalid_0's l2: 1.42458\n",
      "[99]\tvalid_0's l2: 1.41991\n",
      "[100]\tvalid_0's l2: 1.41627\n",
      "Did not meet early stopping. Best iteration is:\n",
      "[100]\tvalid_0's l2: 1.41627\n",
      "12507919 6253959\n",
      "[1]\tvalid_0's l2: 4.16839\n",
      "Training until validation scores don't improve for 50 rounds\n",
      "[2]\tvalid_0's l2: 3.77238\n",
      "[3]\tvalid_0's l2: 3.48724\n",
      "[4]\tvalid_0's l2: 3.24438\n",
      "[5]\tvalid_0's l2: 3.05726\n",
      "[6]\tvalid_0's l2: 2.91519\n",
      "[7]\tvalid_0's l2: 2.81617\n",
      "[8]\tvalid_0's l2: 2.73593\n",
      "[9]\tvalid_0's l2: 2.66153\n",
      "[10]\tvalid_0's l2: 2.59664\n",
      "[11]\tvalid_0's l2: 2.52668\n",
      "[12]\tvalid_0's l2: 2.48337\n",
      "[13]\tvalid_0's l2: 2.44494\n",
      "[14]\tvalid_0's l2: 2.39846\n",
      "[15]\tvalid_0's l2: 2.3395\n",
      "[16]\tvalid_0's l2: 2.29364\n",
      "[17]\tvalid_0's l2: 2.26151\n",
      "[18]\tvalid_0's l2: 2.23464\n",
      "[19]\tvalid_0's l2: 2.21825\n",
      "[20]\tvalid_0's l2: 2.18588\n",
      "[21]\tvalid_0's l2: 2.16454\n",
      "[22]\tvalid_0's l2: 2.11885\n",
      "[23]\tvalid_0's l2: 2.10327\n",
      "[24]\tvalid_0's l2: 2.06898\n",
      "[25]\tvalid_0's l2: 2.05371\n",
      "[26]\tvalid_0's l2: 2.02953\n",
      "[27]\tvalid_0's l2: 2.01601\n",
      "[28]\tvalid_0's l2: 1.99429\n",
      "[29]\tvalid_0's l2: 1.97102\n",
      "[30]\tvalid_0's l2: 1.96155\n",
      "[31]\tvalid_0's l2: 1.95367\n",
      "[32]\tvalid_0's l2: 1.92667\n",
      "[33]\tvalid_0's l2: 1.91567\n",
      "[34]\tvalid_0's l2: 1.90582\n",
      "[35]\tvalid_0's l2: 1.89569\n",
      "[36]\tvalid_0's l2: 1.8865\n",
      "[37]\tvalid_0's l2: 1.87648\n",
      "[38]\tvalid_0's l2: 1.86388\n",
      "[39]\tvalid_0's l2: 1.85005\n",
      "[40]\tvalid_0's l2: 1.84252\n",
      "[41]\tvalid_0's l2: 1.83614\n",
      "[42]\tvalid_0's l2: 1.824\n",
      "[43]\tvalid_0's l2: 1.81185\n",
      "[44]\tvalid_0's l2: 1.80174\n",
      "[45]\tvalid_0's l2: 1.78878\n",
      "[46]\tvalid_0's l2: 1.78169\n",
      "[47]\tvalid_0's l2: 1.75976\n",
      "[48]\tvalid_0's l2: 1.74531\n",
      "[49]\tvalid_0's l2: 1.73325\n",
      "[50]\tvalid_0's l2: 1.72466\n",
      "[51]\tvalid_0's l2: 1.71905\n",
      "[52]\tvalid_0's l2: 1.70975\n",
      "[53]\tvalid_0's l2: 1.70301\n",
      "[54]\tvalid_0's l2: 1.69153\n",
      "[55]\tvalid_0's l2: 1.68746\n",
      "[56]\tvalid_0's l2: 1.68427\n",
      "[57]\tvalid_0's l2: 1.67807\n",
      "[58]\tvalid_0's l2: 1.66792\n",
      "[59]\tvalid_0's l2: 1.66346\n",
      "[60]\tvalid_0's l2: 1.65827\n",
      "[61]\tvalid_0's l2: 1.65135\n",
      "[62]\tvalid_0's l2: 1.64803\n",
      "[63]\tvalid_0's l2: 1.63677\n",
      "[64]\tvalid_0's l2: 1.62983\n",
      "[65]\tvalid_0's l2: 1.62637\n",
      "[66]\tvalid_0's l2: 1.62197\n",
      "[67]\tvalid_0's l2: 1.61546\n",
      "[68]\tvalid_0's l2: 1.60754\n",
      "[69]\tvalid_0's l2: 1.6021\n",
      "[70]\tvalid_0's l2: 1.59063\n",
      "[71]\tvalid_0's l2: 1.58143\n",
      "[72]\tvalid_0's l2: 1.57886\n",
      "[73]\tvalid_0's l2: 1.5663\n",
      "[74]\tvalid_0's l2: 1.56017\n",
      "[75]\tvalid_0's l2: 1.55753\n",
      "[76]\tvalid_0's l2: 1.54963\n",
      "[77]\tvalid_0's l2: 1.54562\n",
      "[78]\tvalid_0's l2: 1.53984\n",
      "[79]\tvalid_0's l2: 1.53258\n",
      "[80]\tvalid_0's l2: 1.52455\n",
      "[81]\tvalid_0's l2: 1.51639\n",
      "[82]\tvalid_0's l2: 1.51454\n",
      "[83]\tvalid_0's l2: 1.51283\n",
      "[84]\tvalid_0's l2: 1.50982\n",
      "[85]\tvalid_0's l2: 1.50724\n",
      "[86]\tvalid_0's l2: 1.50074\n",
      "[87]\tvalid_0's l2: 1.49687\n",
      "[88]\tvalid_0's l2: 1.49258\n",
      "[89]\tvalid_0's l2: 1.48789\n",
      "[90]\tvalid_0's l2: 1.47748\n",
      "[91]\tvalid_0's l2: 1.47508\n",
      "[92]\tvalid_0's l2: 1.4686\n",
      "[93]\tvalid_0's l2: 1.46296\n",
      "[94]\tvalid_0's l2: 1.45946\n",
      "[95]\tvalid_0's l2: 1.45398\n",
      "[96]\tvalid_0's l2: 1.44611\n",
      "[97]\tvalid_0's l2: 1.44321\n",
      "[98]\tvalid_0's l2: 1.4403\n",
      "[99]\tvalid_0's l2: 1.43609\n",
      "[100]\tvalid_0's l2: 1.4299\n",
      "Did not meet early stopping. Best iteration is:\n",
      "[100]\tvalid_0's l2: 1.4299\n"
     ]
    },
    {
     "ename": "MemoryError",
     "evalue": "",
     "output_type": "error",
     "traceback": [
      "\u001b[1;31m---------------------------------------------------------------------------\u001b[0m",
      "\u001b[1;31mMemoryError\u001b[0m                               Traceback (most recent call last)",
      "\u001b[1;32m<ipython-input-29-73005883a83b>\u001b[0m in \u001b[0;36m<module>\u001b[1;34m\u001b[0m\n\u001b[0;32m     24\u001b[0m \u001b[0my_test_pred\u001b[0m \u001b[1;33m=\u001b[0m \u001b[0mnp\u001b[0m\u001b[1;33m.\u001b[0m\u001b[0mzeros\u001b[0m\u001b[1;33m(\u001b[0m\u001b[0mX_test\u001b[0m\u001b[1;33m.\u001b[0m\u001b[0mshape\u001b[0m\u001b[1;33m[\u001b[0m\u001b[1;36m0\u001b[0m\u001b[1;33m]\u001b[0m\u001b[1;33m)\u001b[0m\u001b[1;33m\u001b[0m\u001b[1;33m\u001b[0m\u001b[0m\n\u001b[0;32m     25\u001b[0m \u001b[1;32mfor\u001b[0m \u001b[0mclf\u001b[0m \u001b[1;32min\u001b[0m \u001b[0mmodels\u001b[0m\u001b[1;33m:\u001b[0m\u001b[1;33m\u001b[0m\u001b[1;33m\u001b[0m\u001b[0m\n\u001b[1;32m---> 26\u001b[1;33m       \u001b[0my_test_pred\u001b[0m \u001b[1;33m+=\u001b[0m \u001b[0mnp\u001b[0m\u001b[1;33m.\u001b[0m\u001b[0mexpm1\u001b[0m\u001b[1;33m(\u001b[0m\u001b[0mclf\u001b[0m\u001b[1;33m.\u001b[0m\u001b[0mpredict\u001b[0m\u001b[1;33m(\u001b[0m\u001b[0mX_test\u001b[0m\u001b[1;33m,\u001b[0m \u001b[0mnum_iteration\u001b[0m\u001b[1;33m=\u001b[0m\u001b[0mclf\u001b[0m\u001b[1;33m.\u001b[0m\u001b[0mbest_iteration_\u001b[0m\u001b[1;33m)\u001b[0m\u001b[1;33m)\u001b[0m\u001b[1;33m\u001b[0m\u001b[1;33m\u001b[0m\u001b[0m\n\u001b[0m\u001b[0;32m     27\u001b[0m \u001b[0my_test_pred\u001b[0m \u001b[1;33m/=\u001b[0m \u001b[0mlen\u001b[0m\u001b[1;33m(\u001b[0m\u001b[0mmodels\u001b[0m\u001b[1;33m)\u001b[0m\u001b[1;33m\u001b[0m\u001b[1;33m\u001b[0m\u001b[0m\n",
      "\u001b[1;32mC:\\ProgramData\\Anaconda3\\lib\\site-packages\\lightgbm\\sklearn.py\u001b[0m in \u001b[0;36mpredict\u001b[1;34m(self, X, raw_score, num_iteration, pred_leaf, pred_contrib, **kwargs)\u001b[0m\n\u001b[0;32m    658\u001b[0m                              % (self._n_features, n_features))\n\u001b[0;32m    659\u001b[0m         return self.booster_.predict(X, raw_score=raw_score, num_iteration=num_iteration,\n\u001b[1;32m--> 660\u001b[1;33m                                      pred_leaf=pred_leaf, pred_contrib=pred_contrib, **kwargs)\n\u001b[0m\u001b[0;32m    661\u001b[0m \u001b[1;33m\u001b[0m\u001b[0m\n\u001b[0;32m    662\u001b[0m     \u001b[1;33m@\u001b[0m\u001b[0mproperty\u001b[0m\u001b[1;33m\u001b[0m\u001b[1;33m\u001b[0m\u001b[0m\n",
      "\u001b[1;32mC:\\ProgramData\\Anaconda3\\lib\\site-packages\\lightgbm\\basic.py\u001b[0m in \u001b[0;36mpredict\u001b[1;34m(self, data, num_iteration, raw_score, pred_leaf, pred_contrib, data_has_header, is_reshape, **kwargs)\u001b[0m\n\u001b[0;32m   2363\u001b[0m         return predictor.predict(data, num_iteration,\n\u001b[0;32m   2364\u001b[0m                                  \u001b[0mraw_score\u001b[0m\u001b[1;33m,\u001b[0m \u001b[0mpred_leaf\u001b[0m\u001b[1;33m,\u001b[0m \u001b[0mpred_contrib\u001b[0m\u001b[1;33m,\u001b[0m\u001b[1;33m\u001b[0m\u001b[1;33m\u001b[0m\u001b[0m\n\u001b[1;32m-> 2365\u001b[1;33m                                  data_has_header, is_reshape)\n\u001b[0m\u001b[0;32m   2366\u001b[0m \u001b[1;33m\u001b[0m\u001b[0m\n\u001b[0;32m   2367\u001b[0m     \u001b[1;32mdef\u001b[0m \u001b[0mrefit\u001b[0m\u001b[1;33m(\u001b[0m\u001b[0mself\u001b[0m\u001b[1;33m,\u001b[0m \u001b[0mdata\u001b[0m\u001b[1;33m,\u001b[0m \u001b[0mlabel\u001b[0m\u001b[1;33m,\u001b[0m \u001b[0mdecay_rate\u001b[0m\u001b[1;33m=\u001b[0m\u001b[1;36m0.9\u001b[0m\u001b[1;33m,\u001b[0m \u001b[1;33m**\u001b[0m\u001b[0mkwargs\u001b[0m\u001b[1;33m)\u001b[0m\u001b[1;33m:\u001b[0m\u001b[1;33m\u001b[0m\u001b[1;33m\u001b[0m\u001b[0m\n",
      "\u001b[1;32mC:\\ProgramData\\Anaconda3\\lib\\site-packages\\lightgbm\\basic.py\u001b[0m in \u001b[0;36mpredict\u001b[1;34m(self, data, num_iteration, raw_score, pred_leaf, pred_contrib, data_has_header, is_reshape)\u001b[0m\n\u001b[0;32m    484\u001b[0m             \u001b[0mpreds\u001b[0m\u001b[1;33m,\u001b[0m \u001b[0mnrow\u001b[0m \u001b[1;33m=\u001b[0m \u001b[0mself\u001b[0m\u001b[1;33m.\u001b[0m\u001b[0m__pred_for_csc\u001b[0m\u001b[1;33m(\u001b[0m\u001b[0mdata\u001b[0m\u001b[1;33m,\u001b[0m \u001b[0mnum_iteration\u001b[0m\u001b[1;33m,\u001b[0m \u001b[0mpredict_type\u001b[0m\u001b[1;33m)\u001b[0m\u001b[1;33m\u001b[0m\u001b[1;33m\u001b[0m\u001b[0m\n\u001b[0;32m    485\u001b[0m         \u001b[1;32melif\u001b[0m \u001b[0misinstance\u001b[0m\u001b[1;33m(\u001b[0m\u001b[0mdata\u001b[0m\u001b[1;33m,\u001b[0m \u001b[0mnp\u001b[0m\u001b[1;33m.\u001b[0m\u001b[0mndarray\u001b[0m\u001b[1;33m)\u001b[0m\u001b[1;33m:\u001b[0m\u001b[1;33m\u001b[0m\u001b[1;33m\u001b[0m\u001b[0m\n\u001b[1;32m--> 486\u001b[1;33m             \u001b[0mpreds\u001b[0m\u001b[1;33m,\u001b[0m \u001b[0mnrow\u001b[0m \u001b[1;33m=\u001b[0m \u001b[0mself\u001b[0m\u001b[1;33m.\u001b[0m\u001b[0m__pred_for_np2d\u001b[0m\u001b[1;33m(\u001b[0m\u001b[0mdata\u001b[0m\u001b[1;33m,\u001b[0m \u001b[0mnum_iteration\u001b[0m\u001b[1;33m,\u001b[0m \u001b[0mpredict_type\u001b[0m\u001b[1;33m)\u001b[0m\u001b[1;33m\u001b[0m\u001b[1;33m\u001b[0m\u001b[0m\n\u001b[0m\u001b[0;32m    487\u001b[0m         \u001b[1;32melif\u001b[0m \u001b[0misinstance\u001b[0m\u001b[1;33m(\u001b[0m\u001b[0mdata\u001b[0m\u001b[1;33m,\u001b[0m \u001b[0mlist\u001b[0m\u001b[1;33m)\u001b[0m\u001b[1;33m:\u001b[0m\u001b[1;33m\u001b[0m\u001b[1;33m\u001b[0m\u001b[0m\n\u001b[0;32m    488\u001b[0m             \u001b[1;32mtry\u001b[0m\u001b[1;33m:\u001b[0m\u001b[1;33m\u001b[0m\u001b[1;33m\u001b[0m\u001b[0m\n",
      "\u001b[1;32mC:\\ProgramData\\Anaconda3\\lib\\site-packages\\lightgbm\\basic.py\u001b[0m in \u001b[0;36m__pred_for_np2d\u001b[1;34m(self, mat, num_iteration, predict_type)\u001b[0m\n\u001b[0;32m    572\u001b[0m             \u001b[1;32mreturn\u001b[0m \u001b[0mpreds\u001b[0m\u001b[1;33m,\u001b[0m \u001b[0mnrow\u001b[0m\u001b[1;33m\u001b[0m\u001b[1;33m\u001b[0m\u001b[0m\n\u001b[0;32m    573\u001b[0m         \u001b[1;32melse\u001b[0m\u001b[1;33m:\u001b[0m\u001b[1;33m\u001b[0m\u001b[1;33m\u001b[0m\u001b[0m\n\u001b[1;32m--> 574\u001b[1;33m             \u001b[1;32mreturn\u001b[0m \u001b[0minner_predict\u001b[0m\u001b[1;33m(\u001b[0m\u001b[0mmat\u001b[0m\u001b[1;33m,\u001b[0m \u001b[0mnum_iteration\u001b[0m\u001b[1;33m,\u001b[0m \u001b[0mpredict_type\u001b[0m\u001b[1;33m)\u001b[0m\u001b[1;33m\u001b[0m\u001b[1;33m\u001b[0m\u001b[0m\n\u001b[0m\u001b[0;32m    575\u001b[0m \u001b[1;33m\u001b[0m\u001b[0m\n\u001b[0;32m    576\u001b[0m     \u001b[1;32mdef\u001b[0m \u001b[0m__pred_for_csr\u001b[0m\u001b[1;33m(\u001b[0m\u001b[0mself\u001b[0m\u001b[1;33m,\u001b[0m \u001b[0mcsr\u001b[0m\u001b[1;33m,\u001b[0m \u001b[0mnum_iteration\u001b[0m\u001b[1;33m,\u001b[0m \u001b[0mpredict_type\u001b[0m\u001b[1;33m)\u001b[0m\u001b[1;33m:\u001b[0m\u001b[1;33m\u001b[0m\u001b[1;33m\u001b[0m\u001b[0m\n",
      "\u001b[1;32mC:\\ProgramData\\Anaconda3\\lib\\site-packages\\lightgbm\\basic.py\u001b[0m in \u001b[0;36minner_predict\u001b[1;34m(mat, num_iteration, predict_type, preds)\u001b[0m\n\u001b[0;32m    533\u001b[0m         \u001b[1;32mdef\u001b[0m \u001b[0minner_predict\u001b[0m\u001b[1;33m(\u001b[0m\u001b[0mmat\u001b[0m\u001b[1;33m,\u001b[0m \u001b[0mnum_iteration\u001b[0m\u001b[1;33m,\u001b[0m \u001b[0mpredict_type\u001b[0m\u001b[1;33m,\u001b[0m \u001b[0mpreds\u001b[0m\u001b[1;33m=\u001b[0m\u001b[1;32mNone\u001b[0m\u001b[1;33m)\u001b[0m\u001b[1;33m:\u001b[0m\u001b[1;33m\u001b[0m\u001b[1;33m\u001b[0m\u001b[0m\n\u001b[0;32m    534\u001b[0m             \u001b[1;32mif\u001b[0m \u001b[0mmat\u001b[0m\u001b[1;33m.\u001b[0m\u001b[0mdtype\u001b[0m \u001b[1;33m==\u001b[0m \u001b[0mnp\u001b[0m\u001b[1;33m.\u001b[0m\u001b[0mfloat32\u001b[0m \u001b[1;32mor\u001b[0m \u001b[0mmat\u001b[0m\u001b[1;33m.\u001b[0m\u001b[0mdtype\u001b[0m \u001b[1;33m==\u001b[0m \u001b[0mnp\u001b[0m\u001b[1;33m.\u001b[0m\u001b[0mfloat64\u001b[0m\u001b[1;33m:\u001b[0m\u001b[1;33m\u001b[0m\u001b[1;33m\u001b[0m\u001b[0m\n\u001b[1;32m--> 535\u001b[1;33m                 \u001b[0mdata\u001b[0m \u001b[1;33m=\u001b[0m \u001b[0mnp\u001b[0m\u001b[1;33m.\u001b[0m\u001b[0marray\u001b[0m\u001b[1;33m(\u001b[0m\u001b[0mmat\u001b[0m\u001b[1;33m.\u001b[0m\u001b[0mreshape\u001b[0m\u001b[1;33m(\u001b[0m\u001b[0mmat\u001b[0m\u001b[1;33m.\u001b[0m\u001b[0msize\u001b[0m\u001b[1;33m)\u001b[0m\u001b[1;33m,\u001b[0m \u001b[0mdtype\u001b[0m\u001b[1;33m=\u001b[0m\u001b[0mmat\u001b[0m\u001b[1;33m.\u001b[0m\u001b[0mdtype\u001b[0m\u001b[1;33m,\u001b[0m \u001b[0mcopy\u001b[0m\u001b[1;33m=\u001b[0m\u001b[1;32mFalse\u001b[0m\u001b[1;33m)\u001b[0m\u001b[1;33m\u001b[0m\u001b[1;33m\u001b[0m\u001b[0m\n\u001b[0m\u001b[0;32m    536\u001b[0m             \u001b[1;32melse\u001b[0m\u001b[1;33m:\u001b[0m  \u001b[1;31m# change non-float data to float data, need to copy\u001b[0m\u001b[1;33m\u001b[0m\u001b[1;33m\u001b[0m\u001b[0m\n\u001b[0;32m    537\u001b[0m                 \u001b[0mdata\u001b[0m \u001b[1;33m=\u001b[0m \u001b[0mnp\u001b[0m\u001b[1;33m.\u001b[0m\u001b[0marray\u001b[0m\u001b[1;33m(\u001b[0m\u001b[0mmat\u001b[0m\u001b[1;33m.\u001b[0m\u001b[0mreshape\u001b[0m\u001b[1;33m(\u001b[0m\u001b[0mmat\u001b[0m\u001b[1;33m.\u001b[0m\u001b[0msize\u001b[0m\u001b[1;33m)\u001b[0m\u001b[1;33m,\u001b[0m \u001b[0mdtype\u001b[0m\u001b[1;33m=\u001b[0m\u001b[0mnp\u001b[0m\u001b[1;33m.\u001b[0m\u001b[0mfloat32\u001b[0m\u001b[1;33m)\u001b[0m\u001b[1;33m\u001b[0m\u001b[1;33m\u001b[0m\u001b[0m\n",
      "\u001b[1;31mMemoryError\u001b[0m: "
     ]
    }
   ],
   "source": [
    "from sklearn.model_selection import KFold\n",
    "import lightgbm as lgb\n",
    "gc.collect()\n",
    "kf = KFold(n_splits = 3, shuffle = True, random_state=42)\n",
    "y_valid_pred = np.zeros(X_train.shape[0])\n",
    "models = []\n",
    "\n",
    "for tr_idx, val_idx in kf.split(X_train, y):\n",
    "    tr_x, tr_y = X_train.iloc[tr_idx,:], y[tr_idx]\n",
    "    vl_x, vl_y = X_train.iloc[val_idx,:], y[val_idx]\n",
    "            \n",
    "    print(len(tr_x),len(vl_x)) \n",
    "    \n",
    "    clf = lgb.LGBMRegressor(n_estimators=100,learning_rate=0.2,feature_fraction=0.9,\n",
    "            bagging_fraction=0.9,early_stopping_rounds=50)\n",
    "    clf.fit(tr_x, tr_y,\n",
    "        eval_set=[(vl_x, vl_y)],\n",
    "        verbose=2)\n",
    "    y_valid_pred[val_idx] += clf.predict(vl_x, num_iteration=clf.best_iteration_)\n",
    "    models.append(clf)\n",
    "    gc.collect()\n",
    "    \n",
    "#predict test  \n",
    "y_test_pred = np.zeros(X_test.shape[0])\n",
    "for clf in models:\n",
    "      y_test_pred += np.expm1(clf.predict(X_test, num_iteration=clf.best_iteration_))\n",
    "y_test_pred /= len(models)"
   ]
  },
  {
   "cell_type": "markdown",
   "metadata": {
    "Collapsed": "false"
   },
   "source": [
    "Evaluation"
   ]
  },
  {
   "cell_type": "code",
   "execution_count": null,
   "metadata": {
    "Collapsed": "false"
   },
   "outputs": [],
   "source": [
    "#Since the minimum value is 0, it was clipped to do so.\n",
    "print('valid score is',np.sqrt(sum(np.power(y-np.clip(y_valid_pred,0,None),2))/y.shape[0]))"
   ]
  },
  {
   "cell_type": "code",
   "execution_count": null,
   "metadata": {
    "Collapsed": "false"
   },
   "outputs": [],
   "source": [
    "pd.DataFrame(np.clip(y_test_pred,0,None)).shape"
   ]
  },
  {
   "cell_type": "code",
   "execution_count": null,
   "metadata": {
    "Collapsed": "false"
   },
   "outputs": [],
   "source": [
    "sub.shape"
   ]
  },
  {
   "cell_type": "code",
   "execution_count": null,
   "metadata": {
    "Collapsed": "false"
   },
   "outputs": [],
   "source": []
  },
  {
   "cell_type": "code",
   "execution_count": null,
   "metadata": {
    "Collapsed": "false"
   },
   "outputs": [],
   "source": [
    "sub = pd.read_csv(\"../data/sample_submission.csv\")\n",
    "sub[\"meter_reading\"] = y_test_pred\n",
    "sub.head()"
   ]
  },
  {
   "cell_type": "code",
   "execution_count": null,
   "metadata": {
    "Collapsed": "false"
   },
   "outputs": [],
   "source": [
    "sub.to_csv(\"submission.csv\", index = False)\n"
   ]
  },
  {
   "cell_type": "code",
   "execution_count": null,
   "metadata": {
    "Collapsed": "false"
   },
   "outputs": [],
   "source": [
    "\n"
   ]
  }
 ],
 "metadata": {
  "kernelspec": {
   "display_name": "Python 3",
   "language": "python",
   "name": "python3"
  },
  "language_info": {
   "codemirror_mode": {
    "name": "ipython",
    "version": 3
   },
   "file_extension": ".py",
   "mimetype": "text/x-python",
   "name": "python",
   "nbconvert_exporter": "python",
   "pygments_lexer": "ipython3",
   "version": "3.7.3"
  },
  "toc-showcode": false,
  "toc-showmarkdowntxt": true
 },
 "nbformat": 4,
 "nbformat_minor": 4
}
